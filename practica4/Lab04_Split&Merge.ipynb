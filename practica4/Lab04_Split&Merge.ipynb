{
 "cells": [
  {
   "cell_type": "markdown",
   "metadata": {},
   "source": [
    "## Universidad de Monterrey\n",
    "\n",
    "### División de Ingenierías\n",
    "\n",
    "#### Lab - Robotics\n",
    "\n",
    "Lab 2: Drawing shape functions and text on images\n",
    "\n",
    "Authors: sAlberto Jasiel Herrera (518836), Jesús Alejandro Ramíŕez (513026) y Kassandra Ibarra (323936)\n",
    "\n",
    "#### Introducción\n",
    "\n",
    "En la práctica anterior aprendimos a tomar imágenes con la cámara y procesar videos, en esta ocasión vamos a aprender a dibujar formas geométricas en imágenes con el uso de las librerías de OpenCV. \n",
    "Aunque parezca algo que podríamos hacer en paint, este proceso es de suma importancia cuando se realiza la detección de objetos con el uso de visión.\n",
    "\n",
    "#### Procedimiento \n",
    "Para dibujar figuras (como se explicara mas a detalle cada una a continuación) primero se tiene que tener guardada una imagen sobre la cual vayamos a dibujar utilizando opencv, en este caso utilizaremos la imagen llamada vehicular_traffic.jpg. También a grandes rasgos el codigo funciona empezando con funciones útiles en las cuales cada una se hace responsable de realizar una de las figuras. después en el código principal guardamos en un directorio el nombre de la imagen, el tipo de figura, las coordenadas del punto 1 y las coordenadas del punto 2. despues el codigo va solicitando cada uno de los datos almacenados en el directorio para asi mandar llamar la función correspondiente a la figura que esté almacenada. \n",
    "A continuación se muestra el código de la parte 1, que incluye como dibujar una línea, rectángulo, círculo, elipse, polígono y texto:"
   ]
  },
  {
   "cell_type": "code",
   "execution_count": 1,
   "metadata": {},
   "outputs": [],
   "source": [
    "#Codigo 1"
   ]
  },
  {
   "cell_type": "markdown",
   "metadata": {},
   "source": [
    "### Desarrollo codigo 1"
   ]
  },
  {
   "cell_type": "markdown",
   "metadata": {},
   "source": [
    "###Desarrollo2"
   ]
  },
  {
   "cell_type": "code",
   "execution_count": null,
   "metadata": {},
   "outputs": [],
   "source": []
  }
 ],
 "metadata": {
  "kernelspec": {
   "display_name": "Python 3",
   "language": "python",
   "name": "python3"
  },
  "language_info": {
   "codemirror_mode": {
    "name": "ipython",
    "version": 3
   },
   "file_extension": ".py",
   "mimetype": "text/x-python",
   "name": "python",
   "nbconvert_exporter": "python",
   "pygments_lexer": "ipython3",
   "version": "3.5.2"
  }
 },
 "nbformat": 4,
 "nbformat_minor": 2
}
